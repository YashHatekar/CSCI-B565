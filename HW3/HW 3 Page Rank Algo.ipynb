{
 "cells": [
  {
   "cell_type": "code",
   "execution_count": 9,
   "id": "258eec24",
   "metadata": {},
   "outputs": [],
   "source": [
    "import numpy as np\n",
    "import networkx as nx\n",
    "def get_matrix(G):\n",
    "    d=0.15\n",
    "    n = G.number_of_nodes()\n",
    "    A = nx.to_numpy_array(G).T\n",
    "    # for sink nodes\n",
    "    is_sink = np.sum(A, axis=0)==0\n",
    "    B = (np.ones_like(A) - np.identity(n)) / (n-1)\n",
    "    A[:, is_sink] += B[:, is_sink]\n",
    "    \n",
    "    D_inv = np.diag(1/np.sum(A, axis=0))\n",
    "    M = np.dot(A, D_inv) \n",
    "    \n",
    "    # for disconnected components\n",
    "    M = (1-d)*M + d*np.ones((n,n))/n\n",
    "    return M\n",
    "\n",
    "def l1(x):\n",
    "    return np.sum(np.abs(x))"
   ]
  },
  {
   "cell_type": "code",
   "execution_count": 10,
   "id": "dfc18f7a",
   "metadata": {},
   "outputs": [],
   "source": [
    "def pagerank_power(G):\n",
    "    d=0.15\n",
    "    max_iter=100\n",
    "    eps=1e-9\n",
    "    M = get_matrix(G)\n",
    "    n = G.number_of_nodes()\n",
    "    V = np.ones(n)/n\n",
    "    for _ in range(max_iter):\n",
    "        V_last = V\n",
    "        V = np.dot(M, V)\n",
    "        if  l1(V-V_last)/n < eps:\n",
    "            return V\n",
    "    return V"
   ]
  },
  {
   "cell_type": "code",
   "execution_count": 11,
   "id": "6f80f1d1",
   "metadata": {},
   "outputs": [
    {
     "data": {
      "text/plain": [
       "array([0.1306091 , 0.16708944, 0.16708944, 0.20350637, 0.16585282,\n",
       "       0.16585282])"
      ]
     },
     "execution_count": 11,
     "metadata": {},
     "output_type": "execute_result"
    }
   ],
   "source": [
    "G = nx.Graph([(1,5),(1,2),(2,1),(2,6),(2,4),(2,3),(3,4),(4,5),(4,6),(5,3),(5,6),(6,1),(6,3)])\n",
    "pagerank_power(G)"
   ]
  },
  {
   "cell_type": "code",
   "execution_count": 12,
   "id": "1df5aedc",
   "metadata": {},
   "outputs": [
    {
     "data": {
      "text/plain": [
       "array([0.17723881, 0.14552239, 0.14552239, 0.17723881, 0.17723881,\n",
       "       0.17723881])"
      ]
     },
     "execution_count": 12,
     "metadata": {},
     "output_type": "execute_result"
    }
   ],
   "source": [
    "G = nx.Graph([(1,5),(1,2),(1,3),(1,4),(2,1),(2,6),(2,4),(2,3),(3,4),(4,5),(4,6),(5,3),(5,6),(6,1),(6,3)])\n",
    "pagerank_power(G)"
   ]
  },
  {
   "cell_type": "markdown",
   "id": "e24938e3",
   "metadata": {},
   "source": [
    "if we increase the connectivity of a node then its importance/rank increases in the above 2 examples we can see that if the numbers of edges from node '1' are increased its rank increases."
   ]
  }
 ],
 "metadata": {
  "kernelspec": {
   "display_name": "Python 3 (ipykernel)",
   "language": "python",
   "name": "python3"
  },
  "language_info": {
   "codemirror_mode": {
    "name": "ipython",
    "version": 3
   },
   "file_extension": ".py",
   "mimetype": "text/x-python",
   "name": "python",
   "nbconvert_exporter": "python",
   "pygments_lexer": "ipython3",
   "version": "3.9.12"
  }
 },
 "nbformat": 4,
 "nbformat_minor": 5
}

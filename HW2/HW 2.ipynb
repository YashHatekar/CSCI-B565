{
 "cells": [
  {
   "cell_type": "code",
   "execution_count": 1,
   "id": "481d202b",
   "metadata": {},
   "outputs": [],
   "source": [
    "import numpy as np\n",
    "import matplotlib.pyplot as plt\n",
    "import pandas as pd"
   ]
  },
  {
   "cell_type": "code",
   "execution_count": 2,
   "id": "82cffaaf",
   "metadata": {},
   "outputs": [
    {
     "data": {
      "text/plain": [
       "(344, 572)"
      ]
     },
     "execution_count": 2,
     "metadata": {},
     "output_type": "execute_result"
    }
   ],
   "source": [
    "dataset = pd.read_csv('C://Users//yashh//Downloads//T2D_abundance.csv',sep = '\\t')\n",
    "  \n",
    "X = dataset.iloc[:, 1:573].values\n",
    "y = dataset.iloc[:, 573].values\n",
    "X.shape"
   ]
  },
  {
   "cell_type": "code",
   "execution_count": 3,
   "id": "d19525c1",
   "metadata": {},
   "outputs": [
    {
     "data": {
      "text/plain": [
       "(344,)"
      ]
     },
     "execution_count": 3,
     "metadata": {},
     "output_type": "execute_result"
    }
   ],
   "source": [
    "y.shape"
   ]
  },
  {
   "cell_type": "code",
   "execution_count": 4,
   "id": "05c61c25",
   "metadata": {},
   "outputs": [],
   "source": [
    "cov_matrix = np.matmul(X.T,X)"
   ]
  },
  {
   "cell_type": "code",
   "execution_count": 5,
   "id": "5287b9ca",
   "metadata": {},
   "outputs": [
    {
     "name": "stdout",
     "output_type": "stream",
     "text": [
      "(572, 2)\n",
      "(2, 572)\n"
     ]
    }
   ],
   "source": [
    "from scipy.linalg import eigh\n",
    "\n",
    "values, vectors = eigh(cov_matrix, eigvals=(570,571))\n",
    "print(vectors.shape)\n",
    "vectors = vectors.T\n",
    "print(vectors.shape)"
   ]
  },
  {
   "cell_type": "code",
   "execution_count": 6,
   "id": "d182d92c",
   "metadata": {},
   "outputs": [
    {
     "data": {
      "text/plain": [
       "(2, 344)"
      ]
     },
     "execution_count": 6,
     "metadata": {},
     "output_type": "execute_result"
    }
   ],
   "source": [
    "new_cord = np.matmul(vectors, X.T)\n",
    "new_cord.shape"
   ]
  },
  {
   "cell_type": "code",
   "execution_count": 7,
   "id": "4d629566",
   "metadata": {},
   "outputs": [
    {
     "data": {
      "text/html": [
       "<div>\n",
       "<style scoped>\n",
       "    .dataframe tbody tr th:only-of-type {\n",
       "        vertical-align: middle;\n",
       "    }\n",
       "\n",
       "    .dataframe tbody tr th {\n",
       "        vertical-align: top;\n",
       "    }\n",
       "\n",
       "    .dataframe thead th {\n",
       "        text-align: right;\n",
       "    }\n",
       "</style>\n",
       "<table border=\"1\" class=\"dataframe\">\n",
       "  <thead>\n",
       "    <tr style=\"text-align: right;\">\n",
       "      <th></th>\n",
       "      <th>1st principal</th>\n",
       "      <th>2nd Pricipal</th>\n",
       "      <th>label</th>\n",
       "    </tr>\n",
       "  </thead>\n",
       "  <tbody>\n",
       "    <tr>\n",
       "      <th>0</th>\n",
       "      <td>-8.999404</td>\n",
       "      <td>7.756331</td>\n",
       "      <td>n</td>\n",
       "    </tr>\n",
       "    <tr>\n",
       "      <th>1</th>\n",
       "      <td>-12.107747</td>\n",
       "      <td>4.592556</td>\n",
       "      <td>n</td>\n",
       "    </tr>\n",
       "    <tr>\n",
       "      <th>2</th>\n",
       "      <td>2.867923</td>\n",
       "      <td>32.143221</td>\n",
       "      <td>n</td>\n",
       "    </tr>\n",
       "    <tr>\n",
       "      <th>3</th>\n",
       "      <td>-18.633201</td>\n",
       "      <td>6.153567</td>\n",
       "      <td>n</td>\n",
       "    </tr>\n",
       "    <tr>\n",
       "      <th>4</th>\n",
       "      <td>-5.586647</td>\n",
       "      <td>12.273927</td>\n",
       "      <td>n</td>\n",
       "    </tr>\n",
       "  </tbody>\n",
       "</table>\n",
       "</div>"
      ],
      "text/plain": [
       "  1st principal 2nd Pricipal label\n",
       "0     -8.999404     7.756331     n\n",
       "1    -12.107747     4.592556     n\n",
       "2      2.867923    32.143221     n\n",
       "3    -18.633201     6.153567     n\n",
       "4     -5.586647    12.273927     n"
      ]
     },
     "execution_count": 7,
     "metadata": {},
     "output_type": "execute_result"
    }
   ],
   "source": [
    "new_cord = np.vstack((new_cord,y)).T\n",
    "\n",
    "dataframe = pd.DataFrame(data=new_cord,columns=(\"1st principal\", \"2nd Pricipal\", 'label'))\n",
    "dataframe.head()"
   ]
  },
  {
   "cell_type": "code",
   "execution_count": 8,
   "id": "22b973ea",
   "metadata": {},
   "outputs": [
    {
     "name": "stderr",
     "output_type": "stream",
     "text": [
      "C:\\Users\\yashh\\anaconda3\\lib\\site-packages\\seaborn\\axisgrid.py:337: UserWarning: The `size` parameter has been renamed to `height`; please update your code.\n",
      "  warnings.warn(msg, UserWarning)\n"
     ]
    },
    {
     "data": {
      "image/png": "[encoded data removed]",
      "text/plain": [
       "<Figure size 432x432 with 1 Axes>"
      ]
     },
     "metadata": {
      "needs_background": "light"
     },
     "output_type": "display_data"
    }
   ],
   "source": [
    "import seaborn as sns\n",
    "sns.FacetGrid(dataframe, hue='label', size = 6).map(plt.scatter, '1st principal', '2nd Pricipal')\n",
    "plt.show()"
   ]
  },
  {
   "cell_type": "code",
   "execution_count": 9,
   "id": "cce50fd8",
   "metadata": {},
   "outputs": [
    {
     "data": {
      "text/plain": [
       "(344, 2)"
      ]
     },
     "execution_count": 9,
     "metadata": {},
     "output_type": "execute_result"
    }
   ],
   "source": [
    "from sklearn.decomposition import PCA\n",
    "  \n",
    "pca = PCA(n_components = 2)\n",
    "PCA_data = pca.fit_transform(X)\n",
    "\n",
    "PCA_data.shape"
   ]
  },
  {
   "cell_type": "code",
   "execution_count": 10,
   "id": "6d574e49",
   "metadata": {},
   "outputs": [
    {
     "data": {
      "text/plain": [
       "(2, 344)"
      ]
     },
     "execution_count": 10,
     "metadata": {},
     "output_type": "execute_result"
    }
   ],
   "source": [
    "PCA_data.T.shape"
   ]
  },
  {
   "cell_type": "code",
   "execution_count": 11,
   "id": "51eedd14",
   "metadata": {},
   "outputs": [
    {
     "name": "stderr",
     "output_type": "stream",
     "text": [
      "C:\\Users\\yashh\\anaconda3\\lib\\site-packages\\seaborn\\axisgrid.py:337: UserWarning: The `size` parameter has been renamed to `height`; please update your code.\n",
      "  warnings.warn(msg, UserWarning)\n"
     ]
    },
    {
     "data": {
      "image/png": "[encoded data removed]",
      "text/plain": [
       "<Figure size 432x432 with 1 Axes>"
      ]
     },
     "metadata": {
      "needs_background": "light"
     },
     "output_type": "display_data"
    }
   ],
   "source": [
    "PCA_data = np.vstack((PCA_data.T,y)).T\n",
    "pca_df = pd.DataFrame(data=PCA_data,columns=(\"1st principal\", \"2nd Principal\", 'label'))\n",
    "sns.FacetGrid(pca_df, hue='label', size = 6).map(plt.scatter, '1st principal', '2nd Principal')\n",
    "plt.show()"
   ]
  },
  {
   "cell_type": "code",
   "execution_count": 24,
   "id": "4d8dcca1",
   "metadata": {},
   "outputs": [
    {
     "name": "stderr",
     "output_type": "stream",
     "text": [
      "C:\\Users\\yashh\\anaconda3\\lib\\site-packages\\sklearn\\manifold\\_t_sne.py:780: FutureWarning: The default initialization in TSNE will change from 'random' to 'pca' in 1.2.\n",
      "  warnings.warn(\n"
     ]
    },
    {
     "data": {
      "text/plain": [
       "(344, 2)"
      ]
     },
     "execution_count": 24,
     "metadata": {},
     "output_type": "execute_result"
    }
   ],
   "source": [
    "from sklearn.manifold import TSNE\n",
    "\n",
    "X_embedded = TSNE(n_components=2, learning_rate='auto', perplexity=50).fit_transform(X)\n",
    "\n",
    "X_embedded.shape"
   ]
  },
  {
   "cell_type": "code",
   "execution_count": 25,
   "id": "45bb0e56",
   "metadata": {},
   "outputs": [
    {
     "name": "stderr",
     "output_type": "stream",
     "text": [
      "C:\\Users\\yashh\\anaconda3\\lib\\site-packages\\seaborn\\axisgrid.py:337: UserWarning: The `size` parameter has been renamed to `height`; please update your code.\n",
      "  warnings.warn(msg, UserWarning)\n"
     ]
    },
    {
     "data": {
      "image/png": "[encoded data removed]",
      "text/plain": [
       "<Figure size 432x432 with 1 Axes>"
      ]
     },
     "metadata": {
      "needs_background": "light"
     },
     "output_type": "display_data"
    }
   ],
   "source": [
    "X_embedded = np.vstack((X_embedded.T,y)).T\n",
    "\n",
    "tsne_df = pd.DataFrame(data = X_embedded, columns=(\"Dim 1\", \"Dim 2\", \"label\"))\n",
    "\n",
    "sns.FacetGrid(tsne_df, hue = \"label\",size =6).map(plt.scatter,'Dim 1','Dim 2')\n",
    "\n",
    "plt.show()"
   ]
  },
  {
   "cell_type": "code",
   "execution_count": null,
   "id": "63e1cbf8",
   "metadata": {},
   "outputs": [],
   "source": []
  }
 ],
 "metadata": {
  "kernelspec": {
   "display_name": "Python 3 (ipykernel)",
   "language": "python",
   "name": "python3"
  },
  "language_info": {
   "codemirror_mode": {
    "name": "ipython",
    "version": 3
   },
   "file_extension": ".py",
   "mimetype": "text/x-python",
   "name": "python",
   "nbconvert_exporter": "python",
   "pygments_lexer": "ipython3",
   "version": "3.9.12"
  }
 },
 "nbformat": 4,
 "nbformat_minor": 5
}
